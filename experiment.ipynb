{
 "cells": [
  {
   "cell_type": "markdown",
   "id": "46d46104",
   "metadata": {},
   "source": [
    "# Distribution of Images"
   ]
  },
  {
   "cell_type": "markdown",
   "id": "0fe7fed8",
   "metadata": {},
   "source": [
    "## Getting Few Shot Images\n"
   ]
  },
  {
   "cell_type": "code",
   "execution_count": 1,
   "id": "898185f4",
   "metadata": {},
   "outputs": [],
   "source": [
    "import zipfile\n",
    "import os"
   ]
  },
  {
   "cell_type": "code",
   "execution_count": 5,
   "id": "6ef8f6ba",
   "metadata": {},
   "outputs": [],
   "source": [
    "zip_path = \"data/few_shot.zip\"\n",
    "extract_to = \"/data/few_shot\"\n",
    "\n",
    "if not os.path.exists(extract_to):\n",
    "    with zipfile.ZipFile(zip_path, 'r') as zip_ref:\n",
    "        zip_ref.extractall(extract_to)"
   ]
  }
 ],
 "metadata": {
  "kernelspec": {
   "display_name": "deelproject",
   "language": "python",
   "name": "python3"
  },
  "language_info": {
   "codemirror_mode": {
    "name": "ipython",
    "version": 3
   },
   "file_extension": ".py",
   "mimetype": "text/x-python",
   "name": "python",
   "nbconvert_exporter": "python",
   "pygments_lexer": "ipython3",
   "version": "3.12.4"
  }
 },
 "nbformat": 4,
 "nbformat_minor": 5
}
